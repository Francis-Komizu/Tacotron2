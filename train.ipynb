{
  "nbformat": 4,
  "nbformat_minor": 0,
  "metadata": {
    "colab": {
      "name": "Tacotron2 (Train)",
      "provenance": [],
      "collapsed_sections": [],
      "toc_visible": true
    },
    "kernelspec": {
      "name": "python3",
      "display_name": "Python 3"
    },
    "language_info": {
      "name": "python"
    },
    "accelerator": "GPU",
    "gpuClass": "standard"
  },
  "cells": [
    {
      "cell_type": "markdown",
      "source": [
        "# Set up"
      ],
      "metadata": {
        "id": "PYrYmiJZiT5J"
      }
    },
    {
      "cell_type": "code",
      "source": [
        "!nvidia-smi"
      ],
      "metadata": {
        "id": "oNmk-xaUSgkG"
      },
      "execution_count": null,
      "outputs": []
    },
    {
      "cell_type": "code",
      "execution_count": null,
      "metadata": {
        "id": "jbZSzhq3eRhq"
      },
      "outputs": [],
      "source": [
        "!git clone https://github.com/Francis-Komizu/Tacotron2-Waveglow\n",
        "%cd Tacotron2-Waveglow/\n",
        "!git clone https://github.com/NVIDIA/apex\n",
        "%cd /content/Tacotron2-Waveglow/apex\n",
        "!python3 setup.py install"
      ]
    },
    {
      "cell_type": "code",
      "source": [
        "%cd /content/Tacotron2-Waveglow/\n",
        "!pip install -r requirements.txt"
      ],
      "metadata": {
        "id": "VtsojuNbi6t7"
      },
      "execution_count": null,
      "outputs": []
    },
    {
      "cell_type": "markdown",
      "source": [
        "# Collect data\n",
        "\n",
        "This may take a few minutes..."
      ],
      "metadata": {
        "id": "P_G0izsNjOK_"
      }
    },
    {
      "cell_type": "code",
      "source": [
        "!sudo apt install megatools\n",
        "# Murasame dataset\n",
        "# !megadl 'https://mega.nz/#!cnJzkTAK!R4gO5HPYSxkuZ91FTDBaG25BN4M9P2mCI6ADdAo0nJc'\n",
        "# !unzip SenRenSpeech-Mur.zip\n",
        "# !mv SenRenSpeech-Mur data\n",
        "\n",
        "\n",
        "# Shiki Natume dataset\n",
        "!megadl 'https://mega.nz/#!IrJQhAjQ!9wVv30m0BgXu-hVvW0NBKBQhFoY2zm1-uZAUTtXLLII'\n",
        "!unrar x StellaSpeech-Nat.rar\n",
        "!mv StellaSpeech-Nat data"
      ],
      "metadata": {
        "id": "PTELneS2jR8O"
      },
      "execution_count": null,
      "outputs": []
    },
    {
      "cell_type": "code",
      "source": [
        "!sed -i -- 's,DUMMY,data/wavs,g' filelists/*.txt"
      ],
      "metadata": {
        "id": "puUwjcWRjzQ7"
      },
      "execution_count": null,
      "outputs": []
    },
    {
      "cell_type": "markdown",
      "source": [
        "# Train model"
      ],
      "metadata": {
        "id": "W_3OzDiXm5xA"
      }
    },
    {
      "cell_type": "markdown",
      "source": [
        "## Load pre-trained model"
      ],
      "metadata": {
        "id": "D7dcB72_nMUL"
      }
    },
    {
      "cell_type": "code",
      "source": [
        "!mkdir pretrained\n",
        "!gdown --id '1c5ZTuT7J08wLUoVZ2KkUs_VdZuJ86ZqA' --output pretrained/tacotron2_base.pt # pretrained Tacotron2 "
      ],
      "metadata": {
        "id": "wQ3mJSh5ssgs"
      },
      "execution_count": null,
      "outputs": []
    },
    {
      "cell_type": "markdown",
      "source": [
        "## Train"
      ],
      "metadata": {
        "id": "M7Lqua1hucVu"
      }
    },
    {
      "cell_type": "code",
      "source": [
        "!python3 train.py --output_directory=/content/drive/MyDrive/Gal-TTS/waveglow-models --log_directory=logdir -c pretrained/tacotron2_base.pt --warm_start"
      ],
      "metadata": {
        "id": "lxiEM70AnPXF"
      },
      "execution_count": null,
      "outputs": []
    }
  ]
}